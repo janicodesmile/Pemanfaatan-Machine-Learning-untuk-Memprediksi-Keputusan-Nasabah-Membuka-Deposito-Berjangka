{
  "nbformat": 4,
  "nbformat_minor": 0,
  "metadata": {
    "colab": {
      "name": "FIN_4.ipynb",
      "provenance": [],
      "authorship_tag": "ABX9TyNJzXj6mfYyMobXGj96CcJO",
      "include_colab_link": true
    },
    "kernelspec": {
      "name": "python3",
      "display_name": "Python 3"
    },
    "language_info": {
      "name": "python"
    }
  },
  "cells": [
    {
      "cell_type": "markdown",
      "metadata": {
        "id": "view-in-github",
        "colab_type": "text"
      },
      "source": [
        "<a href=\"https://colab.research.google.com/github/janicodesmile/Pemanfaatan-Machine-Learning-untuk-Memprediksi-Keputusan-Nasabah-Membuka-Deposito-Berjangka/blob/main/Program/FIN_4.ipynb\" target=\"_parent\"><img src=\"https://colab.research.google.com/assets/colab-badge.svg\" alt=\"Open In Colab\"/></a>"
      ]
    },
    {
      "cell_type": "code",
      "execution_count": null,
      "metadata": {
        "id": "Wp3PyrDFgDbX"
      },
      "outputs": [],
      "source": [
        ""
      ]
    }
  ]
}